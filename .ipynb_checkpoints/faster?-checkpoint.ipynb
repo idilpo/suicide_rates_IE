{
 "cells": [
  {
   "cell_type": "code",
   "execution_count": 1,
   "metadata": {},
   "outputs": [],
   "source": [
    "from bs4 import BeautifulSoup\n",
    "import re\n",
    "import requests\n",
    "import pandas as pd\n",
    "import os"
   ]
  },
  {
   "cell_type": "code",
   "execution_count": 2,
   "metadata": {},
   "outputs": [
    {
     "data": {
      "text/plain": [
       "'\\nentry_urls = []\\n\\nstart_date = \"2006-07-02\"\\nend_date = \"2006-07-05\"\\n#base_url = \"https://rip.ie/death-notice/s/all?page={}&start={}+00%3A00%3A00&end={}&sortField=a.createdAtCastToDate&sortDir=DESC&view=list\"\\np_count = 1\\n\\nfor p in range(1, p_count+1):\\n    base_url = \"https://rip.ie/death-notice/s/all?page=\" + str(p) + \"&start=\" + start_date + \"+00%3A00%3A00&end=\" + end_date + \"&sortField=a.createdAtCastToDate&sortDir=DESC&view=list\"\\n    #entry_urls.append(base_url.format(p, start_date, end_date))\\n    entry_urls.append(base_url)\\n'"
      ]
     },
     "execution_count": 2,
     "metadata": {},
     "output_type": "execute_result"
    }
   ],
   "source": [
    "\"\"\"\n",
    "entry_urls = []\n",
    "\n",
    "start_date = \"2006-07-02\"\n",
    "end_date = \"2006-07-05\"\n",
    "#base_url = \"https://rip.ie/death-notice/s/all?page={}&start={}+00%3A00%3A00&end={}&sortField=a.createdAtCastToDate&sortDir=DESC&view=list\"\n",
    "p_count = 1\n",
    "\n",
    "for p in range(1, p_count+1):\n",
    "    base_url = \"https://rip.ie/death-notice/s/all?page=\" + str(p) + \"&start=\" + start_date + \"+00%3A00%3A00&end=\" + end_date + \"&sortField=a.createdAtCastToDate&sortDir=DESC&view=list\"\n",
    "    #entry_urls.append(base_url.format(p, start_date, end_date))\n",
    "    entry_urls.append(base_url)\n",
    "\"\"\""
   ]
  },
  {
   "cell_type": "code",
   "execution_count": 3,
   "metadata": {},
   "outputs": [],
   "source": [
    "antrim_entry_urls = []\n",
    "\n",
    "for p in range(1, 40):\n",
    "    antrim_base_url = \"https://rip.ie/death-notice/s/antrim?page=\" + str(p) + \"&start=2006-07-02+00%3A00%3A00&end=today&sortField=a.createdAtCastToDate&sortDir=DESC&view=list\"\n",
    "    antrim_entry_urls.append(antrim_base_url)"
   ]
  },
  {
   "cell_type": "code",
   "execution_count": 4,
   "metadata": {},
   "outputs": [],
   "source": [
    "def re_url(url):\n",
    "    try:\n",
    "        response = requests.get(url)\n",
    "        if response.status_code == 200:\n",
    "            return response.text\n",
    "        else:\n",
    "            print(f\"Failed to retrieve data from {url}. Status code: {response.status_code}\")\n",
    "            return None\n",
    "    except Exception as e:\n",
    "        print(f\"Error while processing {url}: {str(e)}\")\n",
    "        return None"
   ]
  },
  {
   "cell_type": "code",
   "execution_count": 5,
   "metadata": {},
   "outputs": [],
   "source": [
    "def scrape_html(html):\n",
    "    soup = BeautifulSoup(html, 'html.parser')\n",
    "    return soup"
   ]
  },
  {
   "cell_type": "code",
   "execution_count": 6,
   "metadata": {},
   "outputs": [],
   "source": [
    "def get_ID(url):\n",
    "    url_pattern = r'https://rip.ie/death-notice/([^/]+)-([^/]+)-([^/]+)(?:-([^/]+))?-(\\d+)'\n",
    "    m = re.match(url_pattern, url)\n",
    "    if m:\n",
    "        return m.group(5)  \n",
    "    else:\n",
    "        print(\"Pattern did not match.\")"
   ]
  },
  {
   "cell_type": "code",
   "execution_count": 7,
   "metadata": {},
   "outputs": [],
   "source": [
    "def get_url(soup):\n",
    "    url_list = []\n",
    "    anchors = soup.find_all('a', class_='showdown-dn-link')\n",
    "    urls = [anchor['href'] for anchor in anchors]\n",
    "    for url in urls:\n",
    "        url_list.append(\"https://rip.ie\" + url)\n",
    "    return url_list"
   ]
  },
  {
   "cell_type": "code",
   "execution_count": 8,
   "metadata": {},
   "outputs": [],
   "source": [
    "def get_name(soup):\n",
    "    name_val = soup.find('h1', class_='DeathNotice_person-name__lkvex')\n",
    "    if name_val:\n",
    "        name = name_val.get_text()\n",
    "        name = name.strip()\n",
    "        name = name.replace(\"Â\", \"\")\n",
    "        name = name.replace(\"nee\", \"née\")\n",
    "        name = name.replace(\"nÃ©e\", \"née\")\n",
    "        name = name.replace(\"\\n\", \" \")\n",
    "        name = name.replace(\"â\", \"’\")\n",
    "        return name\n",
    "    else:\n",
    "        return None"
   ]
  },
  {
   "cell_type": "code",
   "execution_count": 9,
   "metadata": {},
   "outputs": [],
   "source": [
    "def get_loc(soup):\n",
    "    locations = {}\n",
    "    loc_val = soup.find('div', class_='DeathNotice_tags-item__Fp1X4')\n",
    "    if loc_val:\n",
    "        raw_loc = loc_val.get_text()\n",
    "        loc = [word.strip() for word in raw_loc.split(\",\") + raw_loc.split(\"/\")]\n",
    "        city_town = loc[-1]\n",
    "        locations[\"City\"] = city_town.split(\",\")[-1]\n",
    "        locations[\"Town\"] = city_town.split(\",\")[:-1]\n",
    "        return locations\n",
    "    else:\n",
    "        return None"
   ]
  },
  {
   "cell_type": "code",
   "execution_count": 10,
   "metadata": {},
   "outputs": [],
   "source": [
    "def get_dates(soup):\n",
    "    date_list = {}\n",
    "\n",
    "    published_date_value = soup.find('p', class_='DeathNotice_dates-published-date__M0A_i')\n",
    "    if published_date_value:\n",
    "        date_list[\"Published Date\"] = published_date_value.get_text()\n",
    "    else:\n",
    "        date_list[\"Published Date\"] = None\n",
    "\n",
    "    death_date_value = soup.find('p', class_='DeathNotice_dates-death-date__bR7g_')\n",
    "    if death_date_value:\n",
    "        date_list[\"Death Date\"] = death_date_value.get_text()\n",
    "    else:\n",
    "        date_list[\"Death Date\"] = None\n",
    "\n",
    "    return date_list"
   ]
  },
  {
   "cell_type": "code",
   "execution_count": 11,
   "metadata": {},
   "outputs": [],
   "source": [
    "def get_obituary(soup):\n",
    "    description = soup.find('div', class_='DeathNotice_description__sY_tC word-break')\n",
    "    if description:\n",
    "        text = description.get_text()\n",
    "        text = text.strip()\n",
    "        text = text.replace(\"Â\", \"\")\n",
    "        text = text.replace(\"nee\", \"née\")\n",
    "        text = text.replace(\"nÃ©e\", \"née\")\n",
    "        text = text.replace(\"\\n\", \" \")\n",
    "        text = text.replace(\"â\", \"’\")\n",
    "        text = text.replace(\"Å\", \"\")\n",
    "        text = text.replace(\"Ä\", \"\")\n",
    "        text = text.replace(\"\", \"\")\n",
    "        return text\n",
    "    else:\n",
    "        return None"
   ]
  },
  {
   "cell_type": "code",
   "execution_count": 12,
   "metadata": {},
   "outputs": [],
   "source": [
    "def get_page_data(entry_urls):\n",
    "    data_list = []\n",
    "\n",
    "    for entry_url in entry_urls:\n",
    "        page_data = re_url(entry_url)\n",
    "        if page_data:\n",
    "            url_list = get_url(scrape_html(page_data))\n",
    "            \n",
    "            for u in url_list:\n",
    "                s = scrape_html(re_url(u))\n",
    "                identity = get_ID(u)\n",
    "                name = get_name(s)\n",
    "                loc = get_loc(s)\n",
    "                dates = get_dates(s)\n",
    "                obituary_text = get_obituary(s)\n",
    "\n",
    "                data_list.append({\n",
    "                    \"Name\": name,\n",
    "                    \"ID\": identity,\n",
    "                    \"City\": loc[\"City\"],\n",
    "                    \"Town\": loc[\"Town\"],\n",
    "                    \"Published Date\": dates[\"Published Date\"],\n",
    "                    \"Death Date\": dates[\"Death Date\"],\n",
    "                    \"Obituary Text\": obituary_text\n",
    "                })\n",
    "\n",
    "    df = pd.DataFrame(data_list)\n",
    "    return df"
   ]
  },
  {
   "cell_type": "code",
   "execution_count": null,
   "metadata": {},
   "outputs": [],
   "source": [
    "rip_df = get_page_data(antrim_entry_urls)"
   ]
  },
  {
   "cell_type": "code",
   "execution_count": null,
   "metadata": {},
   "outputs": [],
   "source": [
    "output_directory = '/Users/idilbilgic/Desktop/STAGE4.1/COMP30170/suicide_rates_IE/output_monthly'\n",
    "rip_df.to_csv(os.path.join(output_directory, 'rip_output_antrim.csv'), index=False)"
   ]
  },
  {
   "cell_type": "code",
   "execution_count": null,
   "metadata": {},
   "outputs": [],
   "source": [
    "#rip_df.to_csv('rip_output_2006.csv', index=False)"
   ]
  },
  {
   "cell_type": "code",
   "execution_count": null,
   "metadata": {},
   "outputs": [],
   "source": []
  },
  {
   "cell_type": "code",
   "execution_count": null,
   "metadata": {},
   "outputs": [],
   "source": []
  },
  {
   "cell_type": "code",
   "execution_count": null,
   "metadata": {},
   "outputs": [],
   "source": []
  }
 ],
 "metadata": {
  "kernelspec": {
   "display_name": "Python 3",
   "language": "python",
   "name": "python3"
  },
  "language_info": {
   "codemirror_mode": {
    "name": "ipython",
    "version": 3
   },
   "file_extension": ".py",
   "mimetype": "text/x-python",
   "name": "python",
   "nbconvert_exporter": "python",
   "pygments_lexer": "ipython3",
   "version": "3.8.5"
  }
 },
 "nbformat": 4,
 "nbformat_minor": 4
}
