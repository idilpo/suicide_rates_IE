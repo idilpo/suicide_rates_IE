{
 "cells": [
  {
   "cell_type": "code",
   "execution_count": 1,
   "metadata": {},
   "outputs": [],
   "source": [
    "from bs4 import BeautifulSoup\n",
    "import requests"
   ]
  },
  {
   "cell_type": "code",
   "execution_count": 5,
   "metadata": {},
   "outputs": [],
   "source": [
    "def scrape_entry_data(entry_url):\n",
    "    # Send an HTTP request to the entry URL\n",
    "    response = requests.get(entry_url)\n",
    "    if response.status_code != 200:\n",
    "        print(f\"Failed to fetch data for URL: {entry_url}\")\n",
    "        return\n",
    "    \n",
    "    soup = BeautifulSoup(response.text, 'html.parser')\n",
    "    element = soup.find(\"div\", class_=\"DeathNoticeBoxItem_box-tile-name__iwcTP\")\n",
    "    # Check if the element was found\n",
    "    if element:\n",
    "        # Print the HTML code of the found element\n",
    "        print(element.prettify())\n",
    "\n",
    "    print(element)\n",
    "    #print(name_parts)\n",
    "    #print(\"First Name:\", first_name)\n",
    "    #print(\"Last Name:\", last_name)\n",
    "    print(\"---\")"
   ]
  },
  {
   "cell_type": "code",
   "execution_count": null,
   "metadata": {},
   "outputs": [],
   "source": [
    "soup = BeautifulSoup(response.text, 'html.parser')\n",
    "    \n",
    "    title = soup.find('title').text\n",
    "    name_parts = title.split()\n",
    "    first_name = name_parts[0]\n",
    "    last_name = name_parts[1][:-1]"
   ]
  },
  {
   "cell_type": "code",
   "execution_count": null,
   "metadata": {},
   "outputs": [],
   "source": [
    "element = soup.find(\"div\", class_=\"DeathNoticeBoxItem_box-tile-name__iwcTP\")\n",
    "\n",
    "    # Check if the element was found\n",
    "    if element:\n",
    "        # Print the HTML code of the found element\n",
    "        print(element.prettify())"
   ]
  },
  {
   "cell_type": "code",
   "execution_count": 6,
   "metadata": {},
   "outputs": [],
   "source": [
    "entry_urls = [\n",
    "    \"https://rip.ie/death-notice/s/all?page=1&start=2023-09-03+00%3A00%3A00&end=today&sortField=a.createdAtCastToDate&sortDir=DESC&view=boxes\",\n",
    "    \"https://rip.ie/death-notice/s/all?page=2&start=2023-09-03+00%3A00%3A00&end=today&sortField=a.createdAtCastToDate&sortDir=DESC&view=boxes\",\n",
    "    # Add more entry URLs here\n",
    "]"
   ]
  },
  {
   "cell_type": "code",
   "execution_count": 7,
   "metadata": {},
   "outputs": [
    {
     "name": "stdout",
     "output_type": "stream",
     "text": [
      "None\n",
      "---\n",
      "None\n",
      "---\n"
     ]
    }
   ],
   "source": [
    "for url in entry_urls:\n",
    "    scrape_entry_data(url)"
   ]
  },
  {
   "cell_type": "code",
   "execution_count": null,
   "metadata": {},
   "outputs": [],
   "source": [
    "\"\"\"  \n",
    "    url_meta = soup.find(\"meta\", property='og:url')\n",
    "    if url_meta:\n",
    "        url = url_meta.get('content')\n",
    "    else:\n",
    "        url = \"URL not found\"\n",
    "\"\"\""
   ]
  }
 ],
 "metadata": {
  "kernelspec": {
   "display_name": "Python 3",
   "language": "python",
   "name": "python3"
  },
  "language_info": {
   "codemirror_mode": {
    "name": "ipython",
    "version": 3
   },
   "file_extension": ".py",
   "mimetype": "text/x-python",
   "name": "python",
   "nbconvert_exporter": "python",
   "pygments_lexer": "ipython3",
   "version": "3.8.5"
  }
 },
 "nbformat": 4,
 "nbformat_minor": 4
}
