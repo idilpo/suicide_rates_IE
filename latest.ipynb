{
 "cells": [
  {
   "cell_type": "code",
   "execution_count": 1,
   "metadata": {},
   "outputs": [],
   "source": [
    "from bs4 import BeautifulSoup\n",
    "import re\n",
    "import requests\n",
    "import pandas as pd"
   ]
  },
  {
   "cell_type": "code",
   "execution_count": 2,
   "metadata": {},
   "outputs": [
    {
     "data": {
      "text/plain": [
       "'\\nentry_urls = [\\n    \"https://rip.ie/death-notice/s/all?page=1&start=2000-01-01+00%3A00%3A00&end=today&sortField=a.createdAtCastToDate&sortDir=DESC&view=boxes\",\\n    \"https://rip.ie/death-notice/s/all?page=2&start=2000-01-01+00%3A00%3A00&end=today&sortField=a.createdAtCastToDate&sortDir=DESC&view=boxes\",\\n    \"https://rip.ie/death-notice/s/all?page=3&start=2000-01-01+00%3A00%3A00&end=today&sortField=a.createdAtCastToDate&sortDir=DESC&view=boxes\"\\n    # Add more entry URLs here\\n]\\n'"
      ]
     },
     "execution_count": 2,
     "metadata": {},
     "output_type": "execute_result"
    }
   ],
   "source": [
    "entry_urls = []\n",
    "\n",
    "for i in range(0, 1000):\n",
    "    entry_urls.append(\"https://rip.ie/death-notice/s/all?page=\" + str(i) + \"start=2015-01-01+00%3A00%3A00&end=today&sortField=a.createdAtCastToDate&sortDir=DESC&view=boxes\")\n",
    "\n",
    "\"\"\"\n",
    "entry_urls = [\n",
    "    \"https://rip.ie/death-notice/s/all?page=1&start=2000-01-01+00%3A00%3A00&end=today&sortField=a.createdAtCastToDate&sortDir=DESC&view=boxes\",\n",
    "    \"https://rip.ie/death-notice/s/all?page=2&start=2000-01-01+00%3A00%3A00&end=today&sortField=a.createdAtCastToDate&sortDir=DESC&view=boxes\",\n",
    "    \"https://rip.ie/death-notice/s/all?page=3&start=2000-01-01+00%3A00%3A00&end=today&sortField=a.createdAtCastToDate&sortDir=DESC&view=boxes\"\n",
    "    # Add more entry URLs here\n",
    "]\n",
    "\"\"\""
   ]
  },
  {
   "cell_type": "code",
   "execution_count": 3,
   "metadata": {},
   "outputs": [],
   "source": [
    "def scrape(html):\n",
    "    soup = BeautifulSoup(html, 'html.parser')\n",
    "    return soup"
   ]
  },
  {
   "cell_type": "code",
   "execution_count": 4,
   "metadata": {},
   "outputs": [],
   "source": [
    "def scrape_url(url):\n",
    "    try:\n",
    "        response = requests.get(url)\n",
    "        if response.status_code == 200:\n",
    "            return response.text\n",
    "        else:\n",
    "            print(f\"Failed to retrieve data from {url}. Status code: {response.status_code}\")\n",
    "            return None\n",
    "    except Exception as e:\n",
    "        print(f\"Error while processing {url}: {str(e)}\")\n",
    "        return None"
   ]
  },
  {
   "cell_type": "code",
   "execution_count": 5,
   "metadata": {},
   "outputs": [],
   "source": [
    "def get_url(soup):\n",
    "    url_list = []\n",
    "    anchors = soup.find_all('a', class_='showdown-dn-link')\n",
    "    urls = [anchor['href'] for anchor in anchors]\n",
    "    for url in urls:\n",
    "        url_list.append(\"https://rip.ie\" + url)\n",
    "    return url_list"
   ]
  },
  {
   "cell_type": "code",
   "execution_count": 6,
   "metadata": {},
   "outputs": [],
   "source": [
    "def get_page_data(entry_urls):\n",
    "    data_list = []\n",
    "    \n",
    "    url_pattern = r'https://rip.ie/death-notice/([^/]+)-([^/]+)-([^/]+)(?:-([^/]+))?-(\\d+)'\n",
    "    \n",
    "    for entry_url in entry_urls:\n",
    "        html_data = scrape_url(entry_url)\n",
    "        \n",
    "        if html_data:\n",
    "            url_list = get_url(scrape(html_data))\n",
    "            \n",
    "            for u in url_list:\n",
    "                match = re.match(url_pattern, u)\n",
    "\n",
    "                if match:\n",
    "                    name = match.group(1)\n",
    "                    city = match.group(2)\n",
    "                    location = match.group(3)\n",
    "                    identity = match.group(5)\n",
    "\n",
    "                    data_list.append({\n",
    "                                    \"Name\": name,\n",
    "                                    \"ID\": identity,\n",
    "                                    \"City\": city,\n",
    "                                    \"Location\": location\n",
    "                                })\n",
    "\n",
    "                else:\n",
    "                    print(\"Pattern did not match.\")\n",
    "                    \n",
    "    df = pd.DataFrame(data_list)\n",
    "    return df"
   ]
  },
  {
   "cell_type": "code",
   "execution_count": 7,
   "metadata": {},
   "outputs": [
    {
     "data": {
      "text/html": [
       "<div>\n",
       "<style scoped>\n",
       "    .dataframe tbody tr th:only-of-type {\n",
       "        vertical-align: middle;\n",
       "    }\n",
       "\n",
       "    .dataframe tbody tr th {\n",
       "        vertical-align: top;\n",
       "    }\n",
       "\n",
       "    .dataframe thead th {\n",
       "        text-align: right;\n",
       "    }\n",
       "</style>\n",
       "<table border=\"1\" class=\"dataframe\">\n",
       "  <thead>\n",
       "    <tr style=\"text-align: right;\">\n",
       "      <th></th>\n",
       "      <th>Name</th>\n",
       "      <th>ID</th>\n",
       "      <th>City</th>\n",
       "      <th>Location</th>\n",
       "    </tr>\n",
       "  </thead>\n",
       "  <tbody>\n",
       "    <tr>\n",
       "      <th>0</th>\n",
       "      <td>thomas-carroll</td>\n",
       "      <td>532269</td>\n",
       "      <td>louth</td>\n",
       "      <td>castlebellingham</td>\n",
       "    </tr>\n",
       "    <tr>\n",
       "      <th>1</th>\n",
       "      <td>wayne-lynch</td>\n",
       "      <td>532267</td>\n",
       "      <td>louth</td>\n",
       "      <td>castlebellingham</td>\n",
       "    </tr>\n",
       "    <tr>\n",
       "      <th>2</th>\n",
       "      <td>wayne-lynch</td>\n",
       "      <td>532267</td>\n",
       "      <td>monaghan</td>\n",
       "      <td>carrickmacross</td>\n",
       "    </tr>\n",
       "    <tr>\n",
       "      <th>3</th>\n",
       "      <td>ann-lynch</td>\n",
       "      <td>532266</td>\n",
       "      <td>dublin</td>\n",
       "      <td>finglas</td>\n",
       "    </tr>\n",
       "    <tr>\n",
       "      <th>4</th>\n",
       "      <td>jackie-john-wade</td>\n",
       "      <td>532265</td>\n",
       "      <td>dublin</td>\n",
       "      <td>beaumont</td>\n",
       "    </tr>\n",
       "    <tr>\n",
       "      <th>...</th>\n",
       "      <td>...</td>\n",
       "      <td>...</td>\n",
       "      <td>...</td>\n",
       "      <td>...</td>\n",
       "    </tr>\n",
       "    <tr>\n",
       "      <th>39995</th>\n",
       "      <td>elizabeth-elsie-cuffe</td>\n",
       "      <td>532245</td>\n",
       "      <td>galway</td>\n",
       "      <td>salthill</td>\n",
       "    </tr>\n",
       "    <tr>\n",
       "      <th>39996</th>\n",
       "      <td>elizabeth-elsie-cuffe</td>\n",
       "      <td>532245</td>\n",
       "      <td>westmeath</td>\n",
       "      <td>athlone</td>\n",
       "    </tr>\n",
       "    <tr>\n",
       "      <th>39997</th>\n",
       "      <td>bridget-mccann</td>\n",
       "      <td>532244</td>\n",
       "      <td>dublin</td>\n",
       "      <td>kinsealy</td>\n",
       "    </tr>\n",
       "    <tr>\n",
       "      <th>39998</th>\n",
       "      <td>pat-patrick-halpin</td>\n",
       "      <td>532243</td>\n",
       "      <td>dublin</td>\n",
       "      <td>swords</td>\n",
       "    </tr>\n",
       "    <tr>\n",
       "      <th>39999</th>\n",
       "      <td>pat-patrick-halpin</td>\n",
       "      <td>532243</td>\n",
       "      <td>dublin</td>\n",
       "      <td>beaumont</td>\n",
       "    </tr>\n",
       "  </tbody>\n",
       "</table>\n",
       "<p>40000 rows × 4 columns</p>\n",
       "</div>"
      ],
      "text/plain": [
       "                        Name      ID       City          Location\n",
       "0             thomas-carroll  532269      louth  castlebellingham\n",
       "1                wayne-lynch  532267      louth  castlebellingham\n",
       "2                wayne-lynch  532267   monaghan    carrickmacross\n",
       "3                  ann-lynch  532266     dublin           finglas\n",
       "4           jackie-john-wade  532265     dublin          beaumont\n",
       "...                      ...     ...        ...               ...\n",
       "39995  elizabeth-elsie-cuffe  532245     galway          salthill\n",
       "39996  elizabeth-elsie-cuffe  532245  westmeath           athlone\n",
       "39997         bridget-mccann  532244     dublin          kinsealy\n",
       "39998     pat-patrick-halpin  532243     dublin            swords\n",
       "39999     pat-patrick-halpin  532243     dublin          beaumont\n",
       "\n",
       "[40000 rows x 4 columns]"
      ]
     },
     "execution_count": 7,
     "metadata": {},
     "output_type": "execute_result"
    }
   ],
   "source": [
    "result_df = get_page_data(entry_urls)\n",
    "result_df"
   ]
  },
  {
   "cell_type": "code",
   "execution_count": null,
   "metadata": {},
   "outputs": [],
   "source": []
  }
 ],
 "metadata": {
  "kernelspec": {
   "display_name": "Python 3",
   "language": "python",
   "name": "python3"
  },
  "language_info": {
   "codemirror_mode": {
    "name": "ipython",
    "version": 3
   },
   "file_extension": ".py",
   "mimetype": "text/x-python",
   "name": "python",
   "nbconvert_exporter": "python",
   "pygments_lexer": "ipython3",
   "version": "3.8.5"
  }
 },
 "nbformat": 4,
 "nbformat_minor": 4
}
