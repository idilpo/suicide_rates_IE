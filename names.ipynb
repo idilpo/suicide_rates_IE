{
 "cells": [
  {
   "cell_type": "code",
   "execution_count": 1,
   "metadata": {},
   "outputs": [],
   "source": [
    "import urllib.request\n",
    "import requests\n",
    "from bs4 import BeautifulSoup\n",
    "import re\n",
    "import pandas as pd"
   ]
  },
  {
   "cell_type": "code",
   "execution_count": 2,
   "metadata": {},
   "outputs": [],
   "source": [
    "html_data = \"\"\"\n",
    "<div class=\"mx-n-md-4\"><div class=\"relative\"><div class=\"custom-datatable\"><div class=\"sc-dmRaPn embYUS\"><div class=\"sc-fLlhyt gcPjVa\"><div class=\"sc-bczRLJ jNMKxq rdt_Table\" role=\"table\"><div class=\"sc-gsnTZi bZtlLv rdt_TableHead\" role=\"rowgroup\"><div class=\"sc-dkzDqf eOtTIX rdt_TableHeadRow\" role=\"row\"><div data-column-id=\"1\" class=\"sc-hKMtZM sc-eCYdqJ sc-iqcoie jYPiPR hfWhjw qVZpv rdt_TableCol\"><div data-column-id=\"1\" data-sort-id=\"1\" role=\"columnheader\" tabindex=\"0\" class=\"sc-crXcEl jNENvb rdt_TableCol_Sortable\"><div data-column-id=\"1\" class=\"sc-evZas dFsTSm\">Name</div><span class=\"asc __rdt_custom_sort_icon__\"></span></div></div><div data-column-id=\"2\" class=\"sc-hKMtZM sc-eCYdqJ sc-iqcoie jYPiPR gHBJQB qVZpv rdt_TableCol\"><div data-column-id=\"2\" data-sort-id=\"2\" role=\"columnheader\" tabindex=\"0\" class=\"sc-crXcEl jNENvb rdt_TableCol_Sortable\"><div data-column-id=\"2\" class=\"sc-evZas dFsTSm\">Town</div><span class=\"asc __rdt_custom_sort_icon__\"></span></div></div><div data-column-id=\"3\" class=\"sc-hKMtZM sc-eCYdqJ sc-iqcoie jYPiPR gfYsxk qVZpv rdt_TableCol\"><div data-column-id=\"3\" data-sort-id=\"3\" role=\"columnheader\" tabindex=\"0\" class=\"sc-crXcEl jNENvb rdt_TableCol_Sortable\"><div data-column-id=\"3\" class=\"sc-evZas dFsTSm\">County</div><span class=\"asc __rdt_custom_sort_icon__\"></span></div></div><div data-column-id=\"4\" class=\"sc-hKMtZM sc-eCYdqJ sc-iqcoie jYPiPR iPQAkn qVZpv rdt_TableCol\" width=\"95px\"><div data-column-id=\"4\" data-sort-id=\"4\" role=\"columnheader\" tabindex=\"0\" class=\"sc-crXcEl jNENvb rdt_TableCol_Sortable\"><div data-column-id=\"4\" class=\"sc-evZas dFsTSm\">Published</div><span class=\"asc __rdt_custom_sort_icon__\"></span></div></div></div></div><div class=\"sc-hHLeRK fnSgVj rdt_TableBody\" role=\"rowgroup\"><div id=\"row-0\" role=\"row\" class=\"sc-jqUVSM hjBMSB rdt_TableRow\"><div id=\"cell-1-undefined\" data-column-id=\"1\" role=\"gridcell\" class=\"sc-hKMtZM sc-eCYdqJ sc-jSMfEi cLRkKo hfWhjw dNvvkQ rdt_TableCell\" data-tag=\"allowRowEvents\"><a href=\"/death-notice/oliver-ollie-clery-waterford-waterford-city-532166\" data-cy=\"dn-link\" target=\"\" style=\"height:100%;width:100%\" class=\"flex align-items-center showdown-dn-link justify-content-between\"><div class=\"font-13 font-md-12 flex align-items-center\"><div class=\"flex-inline flex-wrap name-cell\"><b class=\"\">CLERY</b><span>,<!-- --> </span>Oliver (ollie)</div></div><div class=\"flex align-items-center pl-1\"></div></a></div><div id=\"cell-2-undefined\" data-column-id=\"2\" role=\"gridcell\" class=\"sc-hKMtZM sc-eCYdqJ sc-jSMfEi cLRkKo gHBJQB dNvvkQ rdt_TableCell\" data-tag=\"allowRowEvents\"><div class=\"font-13 font-md-12 font-weight-500 w-100 word-break\">Waterford City</div></div><div id=\"cell-3-undefined\" data-column-id=\"3\" role=\"gridcell\" class=\"sc-hKMtZM sc-eCYdqJ sc-jSMfEi cLRkKo gfYsxk dNvvkQ rdt_TableCell\" data-tag=\"allowRowEvents\"><div class=\"font-13 font-md-12 font-weight-500 w-100 word-break\">Waterford</div></div><div id=\"cell-4-undefined\" data-column-id=\"4\" role=\"gridcell\" class=\"sc-hKMtZM sc-eCYdqJ sc-jSMfEi cLRkKo iPQAkn dNvvkQ rdt_TableCell\" data-tag=\"allowRowEvents\" width=\"95px\"><div class=\"font-13 font-md-12 font-weight-500\">09/10/23</div></div></div><div id=\"row-1\" role=\"row\" class=\"sc-jqUVSM hjBMSB rdt_TableRow\"><div id=\"cell-1-undefined\" data-column-id=\"1\" role=\"gridcell\" class=\"sc-hKMtZM sc-eCYdqJ sc-jSMfEi cLRkKo hfWhjw dNvvkQ rdt_TableCell\" data-tag=\"allowRowEvents\"><a href=\"/death-notice/paddy-como-connolly-wexford-enniscorthy-532165\" data-cy=\"dn-link\" target=\"\" style=\"height:100%;width:100%\" class=\"flex align-items-center showdown-dn-link justify-content-between\"><div class=\"font-13 font-md-12 flex align-items-center\"><div class=\"flex-inline flex-wrap name-cell\"><b class=\"\">CONNOLLY</b><span>,<!-- --> </span>Paddy (Como)</div></div><div class=\"flex align-items-center pl-1\"></div></a></div><div id=\"cell-2-undefined\" data-column-id=\"2\" role=\"gridcell\" class=\"sc-hKMtZM sc-eCYdqJ sc-jSMfEi cLRkKo gHBJQB dNvvkQ rdt_TableCell\" data-tag=\"allowRowEvents\"><div class=\"font-13 font-md-12 font-weight-500 w-100 word-break\">Enniscorthy</div></div><div id=\"cell-3-undefined\" data-column-id=\"3\" role=\"gridcell\" class=\"sc-hKMtZM sc-eCYdqJ sc-jSMfEi cLRkKo gfYsxk dNvvkQ rdt_TableCell\" data-tag=\"allowRowEvents\"><div class=\"font-13 font-md-12 font-weight-500 w-100 word-break\">Wexford</div></div><div id=\"cell-4-undefined\" data-column-id=\"4\" role=\"gridcell\" class=\"sc-hKMtZM sc-eCYdqJ sc-jSMfEi cLRkKo iPQAkn dNvvkQ rdt_TableCell\" data-tag=\"allowRowEvents\" width=\"95px\"><div class=\"font-13 font-md-12 font-weight-500\">09/10/23</div></div></div><div id=\"row-2\" role=\"row\" class=\"sc-jqUVSM hjBMSB rdt_TableRow\"><div id=\"cell-1-undefined\" data-column-id=\"1\" role=\"gridcell\" class=\"sc-hKMtZM sc-eCYdqJ sc-jSMfEi cLRkKo hfWhjw dNvvkQ rdt_TableCell\" data-tag=\"allowRowEvents\"><a href=\"/death-notice/dolly-lennon-kilkenny-dunbell-532164\" data-cy=\"dn-link\" target=\"\" style=\"height:100%;width:100%\" class=\"flex align-items-center showdown-dn-link justify-content-between\"><div class=\"font-13 font-md-12 flex align-items-center\"><div class=\"flex-inline flex-wrap name-cell\">\n",
    "\"\"\""
   ]
  },
  {
   "cell_type": "code",
   "execution_count": 3,
   "metadata": {},
   "outputs": [],
   "source": [
    "def scrape(html):\n",
    "    soup = BeautifulSoup(html, 'html.parser')\n",
    "    return soup"
   ]
  },
  {
   "cell_type": "code",
   "execution_count": 4,
   "metadata": {},
   "outputs": [],
   "source": [
    "def get_url(soup):\n",
    "    url_list = []\n",
    "    anchors = soup.find_all('a', class_='showdown-dn-link')\n",
    "    urls = [anchor['href'] for anchor in anchors]\n",
    "    for url in urls:\n",
    "        url_list.append(\"https://rip.ie\" + url)\n",
    "    return url_list"
   ]
  },
  {
   "cell_type": "code",
   "execution_count": 67,
   "metadata": {},
   "outputs": [],
   "source": [
    "urls = get_url(scrape(html_data))\n",
    "url_pattern = r'https://rip.ie/death-notice/([^/]+)-([^/]+)-([^/]+)(?:-([^/]+))?-(\\d+)'"
   ]
  },
  {
   "cell_type": "code",
   "execution_count": null,
   "metadata": {},
   "outputs": [],
   "source": [
    "r'https://rip.ie/death-notice/([^/]+)-([^/]+)-([^/]+)-([^/]+)-([^/]+)-(\\d+)'"
   ]
  },
  {
   "cell_type": "code",
   "execution_count": 82,
   "metadata": {},
   "outputs": [],
   "source": [
    "def create_df(urls, pattern):\n",
    "    data_list = []\n",
    "    \n",
    "    for u in urls:\n",
    "        match = re.match(pattern, u)\n",
    "\n",
    "        if match:\n",
    "            \"\"\"\n",
    "            first_name = match.group(1).split('-')[0]\n",
    "            middle_name = match.group(1).split('-')[1] if len(match.group(1).split('-')) > 1 else \"\"\n",
    "            #last_name = match.group(1).split('-')[1] if len(match.group(1).split('-')) > 2 else match.group(1).split('-')[2]\n",
    "            city = match.group(2)\n",
    "            location = match.group(3)\n",
    "            identity = match.group(5)\n",
    "            \"\"\"\n",
    "            print(match.group(1))\n",
    "            first_name = match.group(1).split('-')[0]\n",
    "            if len(match.group(1).split('-')) > 1:\n",
    "                middle_name = match.group(1).split('-')[1]\n",
    "                last_name = match.group(1).split('-')[-1]\n",
    "            else:\n",
    "                middle_name = \"\"\n",
    "                last_name = match.group(1).split('-')[1]\n",
    "            city = match.group(2)\n",
    "            location = match.group(3)\n",
    "            identity = match.group(5)\n",
    "\n",
    "            data_list.append({\n",
    "                            \"First Name\": first_name,\n",
    "                            \"Middle Name\": middle_name,\n",
    "                            \"Last Name\": last_name,\n",
    "                            \"City\": city,\n",
    "                            \"Location\": location,\n",
    "                            \"ID\": identity\n",
    "                        })\n",
    "\n",
    "        else:\n",
    "            print(\"Pattern did not match.\")\n",
    "        \n",
    "    df = pd.DataFrame(data_list)\n",
    "    return df"
   ]
  },
  {
   "cell_type": "code",
   "execution_count": 83,
   "metadata": {},
   "outputs": [
    {
     "name": "stdout",
     "output_type": "stream",
     "text": [
      "oliver-ollie-clery-waterford\n",
      "paddy-como-connolly\n",
      "dolly-lennon\n"
     ]
    },
    {
     "data": {
      "text/html": [
       "<div>\n",
       "<style scoped>\n",
       "    .dataframe tbody tr th:only-of-type {\n",
       "        vertical-align: middle;\n",
       "    }\n",
       "\n",
       "    .dataframe tbody tr th {\n",
       "        vertical-align: top;\n",
       "    }\n",
       "\n",
       "    .dataframe thead th {\n",
       "        text-align: right;\n",
       "    }\n",
       "</style>\n",
       "<table border=\"1\" class=\"dataframe\">\n",
       "  <thead>\n",
       "    <tr style=\"text-align: right;\">\n",
       "      <th></th>\n",
       "      <th>First Name</th>\n",
       "      <th>Middle Name</th>\n",
       "      <th>Last Name</th>\n",
       "      <th>City</th>\n",
       "      <th>Location</th>\n",
       "      <th>ID</th>\n",
       "    </tr>\n",
       "  </thead>\n",
       "  <tbody>\n",
       "    <tr>\n",
       "      <th>0</th>\n",
       "      <td>oliver</td>\n",
       "      <td>ollie</td>\n",
       "      <td>waterford</td>\n",
       "      <td>waterford</td>\n",
       "      <td>city</td>\n",
       "      <td>532166</td>\n",
       "    </tr>\n",
       "    <tr>\n",
       "      <th>1</th>\n",
       "      <td>paddy</td>\n",
       "      <td>como</td>\n",
       "      <td>connolly</td>\n",
       "      <td>wexford</td>\n",
       "      <td>enniscorthy</td>\n",
       "      <td>532165</td>\n",
       "    </tr>\n",
       "    <tr>\n",
       "      <th>2</th>\n",
       "      <td>dolly</td>\n",
       "      <td>lennon</td>\n",
       "      <td>lennon</td>\n",
       "      <td>kilkenny</td>\n",
       "      <td>dunbell</td>\n",
       "      <td>532164</td>\n",
       "    </tr>\n",
       "  </tbody>\n",
       "</table>\n",
       "</div>"
      ],
      "text/plain": [
       "  First Name Middle Name  Last Name       City     Location      ID\n",
       "0     oliver       ollie  waterford  waterford         city  532166\n",
       "1      paddy        como   connolly    wexford  enniscorthy  532165\n",
       "2      dolly      lennon     lennon   kilkenny      dunbell  532164"
      ]
     },
     "execution_count": 83,
     "metadata": {},
     "output_type": "execute_result"
    }
   ],
   "source": [
    "result_df = create_df(urls, url_pattern)\n",
    "result_df"
   ]
  },
  {
   "cell_type": "code",
   "execution_count": null,
   "metadata": {},
   "outputs": [],
   "source": []
  },
  {
   "cell_type": "code",
   "execution_count": null,
   "metadata": {},
   "outputs": [],
   "source": []
  },
  {
   "cell_type": "code",
   "execution_count": null,
   "metadata": {},
   "outputs": [],
   "source": []
  },
  {
   "cell_type": "code",
   "execution_count": null,
   "metadata": {},
   "outputs": [],
   "source": []
  }
 ],
 "metadata": {
  "kernelspec": {
   "display_name": "Python 3",
   "language": "python",
   "name": "python3"
  },
  "language_info": {
   "codemirror_mode": {
    "name": "ipython",
    "version": 3
   },
   "file_extension": ".py",
   "mimetype": "text/x-python",
   "name": "python",
   "nbconvert_exporter": "python",
   "pygments_lexer": "ipython3",
   "version": "3.8.5"
  }
 },
 "nbformat": 4,
 "nbformat_minor": 4
}
