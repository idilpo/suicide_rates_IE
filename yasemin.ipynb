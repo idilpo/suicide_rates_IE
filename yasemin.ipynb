{
 "cells": [
  {
   "cell_type": "code",
   "execution_count": 1,
   "metadata": {},
   "outputs": [],
   "source": [
    "from bs4 import BeautifulSoup\n",
    "import re\n",
    "import requests\n",
    "import pandas as pd\n",
    "import os"
   ]
  },
  {
   "cell_type": "code",
   "execution_count": 2,
   "metadata": {},
   "outputs": [
    {
     "data": {
      "text/plain": [
       "'\\nentry_urls = []\\n\\nstart_date = \"2006-07-02\"\\nend_date = \"2006-07-05\"\\n#base_url = \"https://rip.ie/death-notice/s/all?page={}&start={}+00%3A00%3A00&end={}&sortField=a.createdAtCastToDate&sortDir=DESC&view=list\"\\np_count = 1\\n\\nfor p in range(1, p_count+1):\\n    base_url = \"https://rip.ie/death-notice/s/all?page=\" + str(p) + \"&start=\" + start_date + \"+00%3A00%3A00&end=\" + end_date + \"&sortField=a.createdAtCastToDate&sortDir=DESC&view=list\"\\n    #entry_urls.append(base_url.format(p, start_date, end_date))\\n    entry_urls.append(base_url)\\n'"
      ]
     },
     "execution_count": 2,
     "metadata": {},
     "output_type": "execute_result"
    }
   ],
   "source": [
    "\"\"\"\n",
    "entry_urls = []\n",
    "\n",
    "start_date = \"2006-07-02\"\n",
    "end_date = \"2006-07-05\"\n",
    "#base_url = \"https://rip.ie/death-notice/s/all?page={}&start={}+00%3A00%3A00&end={}&sortField=a.createdAtCastToDate&sortDir=DESC&view=list\"\n",
    "p_count = 1\n",
    "\n",
    "for p in range(1, p_count+1):\n",
    "    base_url = \"https://rip.ie/death-notice/s/all?page=\" + str(p) + \"&start=\" + start_date + \"+00%3A00%3A00&end=\" + end_date + \"&sortField=a.createdAtCastToDate&sortDir=DESC&view=list\"\n",
    "    #entry_urls.append(base_url.format(p, start_date, end_date))\n",
    "    entry_urls.append(base_url)\n",
    "\"\"\""
   ]
  },
  {
   "cell_type": "code",
   "execution_count": 3,
   "metadata": {},
   "outputs": [],
   "source": [
    "def re_url(url):\n",
    "    try:\n",
    "        response = requests.get(url)\n",
    "        if response.status_code == 200:\n",
    "            return response.text\n",
    "        else:\n",
    "            print(f\"Failed to retrieve data from {url}. Status code: {response.status_code}\")\n",
    "            return None\n",
    "    except Exception as e:\n",
    "        print(f\"Error while processing {url}: {str(e)}\")\n",
    "        return None"
   ]
  },
  {
   "cell_type": "code",
   "execution_count": 4,
   "metadata": {},
   "outputs": [],
   "source": [
    "def scrape_html(html):\n",
    "    soup = BeautifulSoup(html, 'html.parser')\n",
    "    return soup"
   ]
  },
  {
   "cell_type": "code",
   "execution_count": 5,
   "metadata": {},
   "outputs": [],
   "source": [
    "def get_url(soup):\n",
    "    url_list = []\n",
    "    anchors = soup.find_all('a', class_='showdown-dn-link')\n",
    "    urls = [anchor['href'] for anchor in anchors]\n",
    "    for url in urls:\n",
    "        url_list.append(\"https://rip.ie\" + url)\n",
    "    return url_list"
   ]
  },
  {
   "cell_type": "code",
   "execution_count": 6,
   "metadata": {},
   "outputs": [],
   "source": [
    "def get_ID(url):\n",
    "    url_pattern = r'https://rip.ie/death-notice/([^/]+)-([^/]+)-([^/]+)(?:-([^/]+))?-(\\d+)'\n",
    "    m = re.match(url_pattern, url)\n",
    "    if m:\n",
    "        return m.group(5)  \n",
    "    else:\n",
    "        print(\"Pattern did not match.\")"
   ]
  },
  {
   "cell_type": "code",
   "execution_count": 7,
   "metadata": {},
   "outputs": [],
   "source": [
    "def get_name(soup):\n",
    "    name_val = soup.find('h1', class_='DeathNotice_person-name__lkvex')\n",
    "    if name_val:\n",
    "        name = name_val.get_text()\n",
    "        name = name.strip()\n",
    "        name = name.replace(\"Â\", \"\")\n",
    "        name = name.replace(\"nee\", \"née\")\n",
    "        name = name.replace(\"nÃ©e\", \"née\")\n",
    "        name = name.replace(\"\\n\", \" \")\n",
    "        name = name.replace(\"â\", \"’\")\n",
    "        return name\n",
    "    else:\n",
    "        return None"
   ]
  },
  {
   "cell_type": "code",
   "execution_count": 8,
   "metadata": {},
   "outputs": [],
   "source": [
    "def get_loc(soup):\n",
    "    locations = {}\n",
    "    loc_val = soup.find('div', class_='DeathNotice_tags-item__Fp1X4')\n",
    "    if loc_val:\n",
    "        raw_loc = loc_val.get_text()\n",
    "        loc = [word.strip() for word in raw_loc.split(\",\") + raw_loc.split(\"/\")]\n",
    "        city_town = loc[-1]\n",
    "        locations[\"City\"] = city_town.split(\",\")[-1]\n",
    "        locations[\"Town\"] = city_town.split(\",\")[:-1]\n",
    "        return locations\n",
    "    else:\n",
    "        return None"
   ]
  },
  {
   "cell_type": "code",
   "execution_count": 9,
   "metadata": {},
   "outputs": [],
   "source": [
    "def get_dates(soup):\n",
    "    date_list = {}\n",
    "\n",
    "    published_date_value = soup.find('p', class_='DeathNotice_dates-published-date__M0A_i')\n",
    "    if published_date_value:\n",
    "        date_list[\"Published Date\"] = published_date_value.get_text()\n",
    "    else:\n",
    "        date_list[\"Published Date\"] = None\n",
    "\n",
    "    death_date_value = soup.find('p', class_='DeathNotice_dates-death-date__bR7g_')\n",
    "    if death_date_value:\n",
    "        date_list[\"Death Date\"] = death_date_value.get_text()\n",
    "    else:\n",
    "        date_list[\"Death Date\"] = None\n",
    "\n",
    "    return date_list"
   ]
  },
  {
   "cell_type": "code",
   "execution_count": 10,
   "metadata": {},
   "outputs": [],
   "source": [
    "def get_obituary(soup):\n",
    "    description = soup.find('div', class_='DeathNotice_description__sY_tC word-break')\n",
    "    if description:\n",
    "        text = description.get_text()\n",
    "        text = text.strip()\n",
    "        text = text.replace(\"Â\", \"\")\n",
    "        text = text.replace(\"nee\", \"née\")\n",
    "        text = text.replace(\"nÃ©e\", \"née\")\n",
    "        text = text.replace(\"\\n\", \" \")\n",
    "        text = text.replace(\"â\", \"’\")\n",
    "        text = text.replace(\"Å\", \"\")\n",
    "        text = text.replace(\"Ä\", \"\")\n",
    "        text = text.replace(\"\", \"\")\n",
    "        return text\n",
    "    else:\n",
    "        return None"
   ]
  },
  {
   "cell_type": "code",
   "execution_count": 11,
   "metadata": {},
   "outputs": [],
   "source": [
    "def get_page_data(url_list):\n",
    "    data_list = []\n",
    "        \n",
    "    for u in url_list:\n",
    "        s = scrape_html(re_url(u))\n",
    "        identity = get_ID(u)\n",
    "        name = get_name(s)\n",
    "        loc = get_loc(s)\n",
    "        dates = get_dates(s)\n",
    "        obituary_text = get_obituary(s)\n",
    "\n",
    "        data_list.append({\n",
    "            \"Name\": name,\n",
    "            \"ID\": identity,\n",
    "            \"City\": loc[\"City\"],\n",
    "            \"Town\": loc[\"Town\"],\n",
    "            \"Published Date\": dates[\"Published Date\"],\n",
    "            \"Death Date\": dates[\"Death Date\"],\n",
    "            \"Obituary Text\": obituary_text\n",
    "        })\n",
    "\n",
    "    df = pd.DataFrame(data_list)\n",
    "    return df"
   ]
  },
  {
   "cell_type": "code",
   "execution_count": 12,
   "metadata": {},
   "outputs": [],
   "source": [
    "def get_entry_urls(page_number):\n",
    "    entry_urls = []\n",
    "    #page_number = 40\n",
    "    \n",
    "    for p in range(1, page_number+1):\n",
    "        base_url = \"https://rip.ie/death-notice/s/all?page=\" + str(p) + \"&start=2006-07-02+00%3A00%3A00&end=today&sortField=a.createdAtCastToDate&sortDir=ASC&view=list\"\n",
    "        entry_urls.append(base_url)\n",
    "    return entry_urls"
   ]
  },
  {
   "cell_type": "code",
   "execution_count": 13,
   "metadata": {},
   "outputs": [],
   "source": [
    "def get_url_list(entry_urls):\n",
    "    url_list = []\n",
    "\n",
    "    for url in entry_urls:\n",
    "        page_data = re_url(url)\n",
    "        if page_data:\n",
    "            url_list.append(get_url(scrape_html(page_data)))\n",
    "    return url_list"
   ]
  },
  {
   "cell_type": "code",
   "execution_count": 14,
   "metadata": {},
   "outputs": [
    {
     "name": "stdout",
     "output_type": "stream",
     "text": [
      "Error while processing ['https://rip.ie/death-notice/cornelius-con-ogorman-kerry-beaufort-533613', 'https://rip.ie/death-notice/cornelius-con-ogorman-kerry-lisselton-533613', 'https://rip.ie/death-notice/katalin-gaborne-baranya-tipperary-roscrea-533612', 'https://rip.ie/death-notice/paud-quinn-kerry-ventry-533611', 'https://rip.ie/death-notice/paud-quinn-kerry-ballyferriter-533611', 'https://rip.ie/death-notice/joseph-joe-walsh-galway-corofin-533610', 'https://rip.ie/death-notice/joseph-joe-walsh-offaly-tullamore-533610', 'https://rip.ie/death-notice/ishbel-mcgloughlin-wicklow-tinahely-533609', 'https://rip.ie/death-notice/nora-harrold-limerick-newcastle-west-533608', 'https://rip.ie/death-notice/ray-westby-waterford-dunmore-east-533607', 'https://rip.ie/death-notice/ray-westby-sligo-533607', 'https://rip.ie/death-notice/michael-mick-sweeney-kerry-tarbert-533606', 'https://rip.ie/death-notice/thomas-tom-moran-kildare-naas-533605', 'https://rip.ie/death-notice/thomas-tom-moran-dublin-dublin-8-533605', 'https://rip.ie/death-notice/elaine-buggy-carlow-ballickmoyler-533604', 'https://rip.ie/death-notice/elaine-buggy-laois-533604', 'https://rip.ie/death-notice/elaine-buggy-kildare-leixlip-533604', 'https://rip.ie/death-notice/joe-dennehy-cork-ballintemple-533603', 'https://rip.ie/death-notice/rita-boyle-dublin-crumlin-533602', 'https://rip.ie/death-notice/mary-brennan-cork-ovens-533601', 'https://rip.ie/death-notice/oliver-shiggins-wexford-castlebridge-533600', 'https://rip.ie/death-notice/laszlo-liviu-szaszi-dublin-533599', 'https://rip.ie/death-notice/joan-fogarty-cork-kanturk-533598', 'https://rip.ie/death-notice/joan-fogarty-cork-buttevant-533598', 'https://rip.ie/death-notice/peter-kinsella-wexford-gorey-533597', 'https://rip.ie/death-notice/tommy-heneghan-mayo-tourmakeady-533596', 'https://rip.ie/death-notice/alice-hackett-cork-cobh-533595', 'https://rip.ie/death-notice/alice-hackett-cork-youghal-533595', 'https://rip.ie/death-notice/donal-kirwan-laois-mountrath-533594', 'https://rip.ie/death-notice/may-reilly-fermanagh-kinawley-533593', 'https://rip.ie/death-notice/claire-kearney-dublin-churchtown-533592', 'https://rip.ie/death-notice/claire-kearney-kilkenny-533592', 'https://rip.ie/death-notice/maire-oreilly-cork-533591', 'https://rip.ie/death-notice/maire-oreilly-dublin-clontarf-533591', 'https://rip.ie/death-notice/dominic-keogh-limerick-caherdavin-533590', 'https://rip.ie/death-notice/dominic-keogh-tipperary-thurles-533590', 'https://rip.ie/death-notice/ann-ahern-kerry-duagh-533589', 'https://rip.ie/death-notice/isobel-waugh-limerick-glin-533588', 'https://rip.ie/death-notice/michael-keogh-meath-ashbourne-533587', 'https://rip.ie/death-notice/michael-keogh-dublin-garristown-533587']: No connection adapters were found for \"['https://rip.ie/death-notice/cornelius-con-ogorman-kerry-beaufort-533613', 'https://rip.ie/death-notice/cornelius-con-ogorman-kerry-lisselton-533613', 'https://rip.ie/death-notice/katalin-gaborne-baranya-tipperary-roscrea-533612', 'https://rip.ie/death-notice/paud-quinn-kerry-ventry-533611', 'https://rip.ie/death-notice/paud-quinn-kerry-ballyferriter-533611', 'https://rip.ie/death-notice/joseph-joe-walsh-galway-corofin-533610', 'https://rip.ie/death-notice/joseph-joe-walsh-offaly-tullamore-533610', 'https://rip.ie/death-notice/ishbel-mcgloughlin-wicklow-tinahely-533609', 'https://rip.ie/death-notice/nora-harrold-limerick-newcastle-west-533608', 'https://rip.ie/death-notice/ray-westby-waterford-dunmore-east-533607', 'https://rip.ie/death-notice/ray-westby-sligo-533607', 'https://rip.ie/death-notice/michael-mick-sweeney-kerry-tarbert-533606', 'https://rip.ie/death-notice/thomas-tom-moran-kildare-naas-533605', 'https://rip.ie/death-notice/thomas-tom-moran-dublin-dublin-8-533605', 'https://rip.ie/death-notice/elaine-buggy-carlow-ballickmoyler-533604', 'https://rip.ie/death-notice/elaine-buggy-laois-533604', 'https://rip.ie/death-notice/elaine-buggy-kildare-leixlip-533604', 'https://rip.ie/death-notice/joe-dennehy-cork-ballintemple-533603', 'https://rip.ie/death-notice/rita-boyle-dublin-crumlin-533602', 'https://rip.ie/death-notice/mary-brennan-cork-ovens-533601', 'https://rip.ie/death-notice/oliver-shiggins-wexford-castlebridge-533600', 'https://rip.ie/death-notice/laszlo-liviu-szaszi-dublin-533599', 'https://rip.ie/death-notice/joan-fogarty-cork-kanturk-533598', 'https://rip.ie/death-notice/joan-fogarty-cork-buttevant-533598', 'https://rip.ie/death-notice/peter-kinsella-wexford-gorey-533597', 'https://rip.ie/death-notice/tommy-heneghan-mayo-tourmakeady-533596', 'https://rip.ie/death-notice/alice-hackett-cork-cobh-533595', 'https://rip.ie/death-notice/alice-hackett-cork-youghal-533595', 'https://rip.ie/death-notice/donal-kirwan-laois-mountrath-533594', 'https://rip.ie/death-notice/may-reilly-fermanagh-kinawley-533593', 'https://rip.ie/death-notice/claire-kearney-dublin-churchtown-533592', 'https://rip.ie/death-notice/claire-kearney-kilkenny-533592', 'https://rip.ie/death-notice/maire-oreilly-cork-533591', 'https://rip.ie/death-notice/maire-oreilly-dublin-clontarf-533591', 'https://rip.ie/death-notice/dominic-keogh-limerick-caherdavin-533590', 'https://rip.ie/death-notice/dominic-keogh-tipperary-thurles-533590', 'https://rip.ie/death-notice/ann-ahern-kerry-duagh-533589', 'https://rip.ie/death-notice/isobel-waugh-limerick-glin-533588', 'https://rip.ie/death-notice/michael-keogh-meath-ashbourne-533587', 'https://rip.ie/death-notice/michael-keogh-dublin-garristown-533587']\"\n"
     ]
    },
    {
     "ename": "TypeError",
     "evalue": "object of type 'NoneType' has no len()",
     "output_type": "error",
     "traceback": [
      "\u001b[0;31m--------------------------------------------------------\u001b[0m",
      "\u001b[0;31mTypeError\u001b[0m              Traceback (most recent call last)",
      "\u001b[0;32m<ipython-input-14-de9c828bbb08>\u001b[0m in \u001b[0;36m<module>\u001b[0;34m\u001b[0m\n\u001b[1;32m      1\u001b[0m \u001b[0;31m#rip_df = get_page_data(get_entry_urls(2))\u001b[0m\u001b[0;34m\u001b[0m\u001b[0;34m\u001b[0m\u001b[0;34m\u001b[0m\u001b[0m\n\u001b[0;32m----> 2\u001b[0;31m \u001b[0mrip_df\u001b[0m \u001b[0;34m=\u001b[0m \u001b[0mget_page_data\u001b[0m\u001b[0;34m(\u001b[0m\u001b[0mget_url_list\u001b[0m\u001b[0;34m(\u001b[0m\u001b[0mget_entry_urls\u001b[0m\u001b[0;34m(\u001b[0m\u001b[0;36m2\u001b[0m\u001b[0;34m)\u001b[0m\u001b[0;34m)\u001b[0m\u001b[0;34m)\u001b[0m\u001b[0;34m\u001b[0m\u001b[0;34m\u001b[0m\u001b[0m\n\u001b[0m\u001b[1;32m      3\u001b[0m \u001b[0mrip_df\u001b[0m\u001b[0;34m\u001b[0m\u001b[0;34m\u001b[0m\u001b[0m\n",
      "\u001b[0;32m<ipython-input-11-1c102474a4a9>\u001b[0m in \u001b[0;36mget_page_data\u001b[0;34m(url_list)\u001b[0m\n\u001b[1;32m      3\u001b[0m \u001b[0;34m\u001b[0m\u001b[0m\n\u001b[1;32m      4\u001b[0m     \u001b[0;32mfor\u001b[0m \u001b[0mu\u001b[0m \u001b[0;32min\u001b[0m \u001b[0murl_list\u001b[0m\u001b[0;34m:\u001b[0m\u001b[0;34m\u001b[0m\u001b[0;34m\u001b[0m\u001b[0m\n\u001b[0;32m----> 5\u001b[0;31m         \u001b[0ms\u001b[0m \u001b[0;34m=\u001b[0m \u001b[0mscrape_html\u001b[0m\u001b[0;34m(\u001b[0m\u001b[0mre_url\u001b[0m\u001b[0;34m(\u001b[0m\u001b[0mu\u001b[0m\u001b[0;34m)\u001b[0m\u001b[0;34m)\u001b[0m\u001b[0;34m\u001b[0m\u001b[0;34m\u001b[0m\u001b[0m\n\u001b[0m\u001b[1;32m      6\u001b[0m         \u001b[0midentity\u001b[0m \u001b[0;34m=\u001b[0m \u001b[0mget_ID\u001b[0m\u001b[0;34m(\u001b[0m\u001b[0mu\u001b[0m\u001b[0;34m)\u001b[0m\u001b[0;34m\u001b[0m\u001b[0;34m\u001b[0m\u001b[0m\n\u001b[1;32m      7\u001b[0m         \u001b[0mname\u001b[0m \u001b[0;34m=\u001b[0m \u001b[0mget_name\u001b[0m\u001b[0;34m(\u001b[0m\u001b[0ms\u001b[0m\u001b[0;34m)\u001b[0m\u001b[0;34m\u001b[0m\u001b[0;34m\u001b[0m\u001b[0m\n",
      "\u001b[0;32m<ipython-input-4-2218bfcb71cd>\u001b[0m in \u001b[0;36mscrape_html\u001b[0;34m(html)\u001b[0m\n\u001b[1;32m      1\u001b[0m \u001b[0;32mdef\u001b[0m \u001b[0mscrape_html\u001b[0m\u001b[0;34m(\u001b[0m\u001b[0mhtml\u001b[0m\u001b[0;34m)\u001b[0m\u001b[0;34m:\u001b[0m\u001b[0;34m\u001b[0m\u001b[0;34m\u001b[0m\u001b[0m\n\u001b[0;32m----> 2\u001b[0;31m     \u001b[0msoup\u001b[0m \u001b[0;34m=\u001b[0m \u001b[0mBeautifulSoup\u001b[0m\u001b[0;34m(\u001b[0m\u001b[0mhtml\u001b[0m\u001b[0;34m,\u001b[0m \u001b[0;34m'html.parser'\u001b[0m\u001b[0;34m)\u001b[0m\u001b[0;34m\u001b[0m\u001b[0;34m\u001b[0m\u001b[0m\n\u001b[0m\u001b[1;32m      3\u001b[0m     \u001b[0;32mreturn\u001b[0m \u001b[0msoup\u001b[0m\u001b[0;34m\u001b[0m\u001b[0;34m\u001b[0m\u001b[0m\n",
      "\u001b[0;32m/opt/anaconda3/lib/python3.8/site-packages/bs4/__init__.py\u001b[0m in \u001b[0;36m__init__\u001b[0;34m(self, markup, features, builder, parse_only, from_encoding, exclude_encodings, element_classes, **kwargs)\u001b[0m\n\u001b[1;32m    308\u001b[0m         \u001b[0;32mif\u001b[0m \u001b[0mhasattr\u001b[0m\u001b[0;34m(\u001b[0m\u001b[0mmarkup\u001b[0m\u001b[0;34m,\u001b[0m \u001b[0;34m'read'\u001b[0m\u001b[0;34m)\u001b[0m\u001b[0;34m:\u001b[0m        \u001b[0;31m# It's a file-type object.\u001b[0m\u001b[0;34m\u001b[0m\u001b[0;34m\u001b[0m\u001b[0m\n\u001b[1;32m    309\u001b[0m             \u001b[0mmarkup\u001b[0m \u001b[0;34m=\u001b[0m \u001b[0mmarkup\u001b[0m\u001b[0;34m.\u001b[0m\u001b[0mread\u001b[0m\u001b[0;34m(\u001b[0m\u001b[0;34m)\u001b[0m\u001b[0;34m\u001b[0m\u001b[0;34m\u001b[0m\u001b[0m\n\u001b[0;32m--> 310\u001b[0;31m         elif len(markup) <= 256 and (\n\u001b[0m\u001b[1;32m    311\u001b[0m                 \u001b[0;34m(\u001b[0m\u001b[0misinstance\u001b[0m\u001b[0;34m(\u001b[0m\u001b[0mmarkup\u001b[0m\u001b[0;34m,\u001b[0m \u001b[0mbytes\u001b[0m\u001b[0;34m)\u001b[0m \u001b[0;32mand\u001b[0m \u001b[0;32mnot\u001b[0m \u001b[0;34mb'<'\u001b[0m \u001b[0;32min\u001b[0m \u001b[0mmarkup\u001b[0m\u001b[0;34m)\u001b[0m\u001b[0;34m\u001b[0m\u001b[0;34m\u001b[0m\u001b[0m\n\u001b[1;32m    312\u001b[0m                 \u001b[0;32mor\u001b[0m \u001b[0;34m(\u001b[0m\u001b[0misinstance\u001b[0m\u001b[0;34m(\u001b[0m\u001b[0mmarkup\u001b[0m\u001b[0;34m,\u001b[0m \u001b[0mstr\u001b[0m\u001b[0;34m)\u001b[0m \u001b[0;32mand\u001b[0m \u001b[0;32mnot\u001b[0m \u001b[0;34m'<'\u001b[0m \u001b[0;32min\u001b[0m \u001b[0mmarkup\u001b[0m\u001b[0;34m)\u001b[0m\u001b[0;34m\u001b[0m\u001b[0;34m\u001b[0m\u001b[0m\n",
      "\u001b[0;31mTypeError\u001b[0m: object of type 'NoneType' has no len()"
     ]
    }
   ],
   "source": [
    "rip_df = get_page_data(get_url_list(get_entry_urls(2)))\n",
    "rip_df"
   ]
  },
  {
   "cell_type": "code",
   "execution_count": null,
   "metadata": {},
   "outputs": [],
   "source": [
    "#output_directory = '/Users/idilbilgic/Desktop/STAGE4.1/COMP30170/suicide_rates_IE/output_monthly'\n",
    "#rip_df.to_csv(os.path.join(output_directory, 'rip_output_antrim.csv'), index=False)"
   ]
  },
  {
   "cell_type": "code",
   "execution_count": null,
   "metadata": {},
   "outputs": [],
   "source": [
    "#rip_df.to_csv('rip_output_2006.csv', index=False)"
   ]
  },
  {
   "cell_type": "code",
   "execution_count": null,
   "metadata": {},
   "outputs": [],
   "source": []
  },
  {
   "cell_type": "code",
   "execution_count": null,
   "metadata": {},
   "outputs": [],
   "source": []
  },
  {
   "cell_type": "code",
   "execution_count": null,
   "metadata": {},
   "outputs": [],
   "source": []
  }
 ],
 "metadata": {
  "kernelspec": {
   "display_name": "Python 3",
   "language": "python",
   "name": "python3"
  },
  "language_info": {
   "codemirror_mode": {
    "name": "ipython",
    "version": 3
   },
   "file_extension": ".py",
   "mimetype": "text/x-python",
   "name": "python",
   "nbconvert_exporter": "python",
   "pygments_lexer": "ipython3",
   "version": "3.8.5"
  }
 },
 "nbformat": 4,
 "nbformat_minor": 4
}
